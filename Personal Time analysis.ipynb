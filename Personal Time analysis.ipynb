{
  "nbformat": 4,
  "nbformat_minor": 0,
  "metadata": {
    "colab": {
      "name": "Personal Time analysis.ipynb",
      "provenance": [],
      "collapsed_sections": [],
      "toc_visible": true,
      "mount_file_id": "130OW6EtueilZz1gAMbRBvqLeebj8Gnv7",
      "authorship_tag": "ABX9TyO4/5uUBV42kEjMov4gkLBC",
      "include_colab_link": true
    },
    "kernelspec": {
      "name": "python3",
      "display_name": "Python 3"
    }
  },
  "cells": [
    {
      "cell_type": "markdown",
      "metadata": {
        "id": "view-in-github",
        "colab_type": "text"
      },
      "source": [
        "<a href=\"https://colab.research.google.com/github/vrodr188/Time_Log_analysis/blob/master/Personal%20Time%20analysis.ipynb\" target=\"_parent\"><img src=\"https://colab.research.google.com/assets/colab-badge.svg\" alt=\"Open In Colab\"/></a>"
      ]
    },
    {
      "cell_type": "markdown",
      "metadata": {
        "id": "3uRusC0gRiJK",
        "colab_type": "text"
      },
      "source": [
        "# **Importing Data**"
      ]
    },
    {
      "cell_type": "code",
      "metadata": {
        "id": "BKvoUl3c-R96",
        "colab_type": "code",
        "colab": {
          "base_uri": "https://localhost:8080/",
          "height": 35
        },
        "outputId": "fd2e09a2-2c77-47ef-d135-5b19ea2bbaf2"
      },
      "source": [
        "print('Something chaged test')"
      ],
      "execution_count": 1,
      "outputs": [
        {
          "output_type": "stream",
          "text": [
            "Something chaged test\n"
          ],
          "name": "stdout"
        }
      ]
    },
    {
      "cell_type": "code",
      "metadata": {
        "id": "e3KDlr0yRiWR",
        "colab_type": "code",
        "colab": {}
      },
      "source": [
        "from google.colab import auth\n",
        "auth.authenticate_user()\n",
        "import gspread\n",
        "from oauth2client.client import GoogleCredentials\n",
        "gc = gspread.authorize(GoogleCredentials.get_application_default())"
      ],
      "execution_count": null,
      "outputs": []
    },
    {
      "cell_type": "markdown",
      "metadata": {
        "id": "795wZLXhR2KZ",
        "colab_type": "text"
      },
      "source": [
        "**Importing Data from Goole sheets**"
      ]
    },
    {
      "cell_type": "code",
      "metadata": {
        "id": "fp4Cv5CQTypH",
        "colab_type": "code",
        "colab": {}
      },
      "source": [
        "import pandas as pd\n",
        "import numpy as np\n",
        "import matplotlib.pyplot as plt\n",
        "import seaborn as sns\n",
        "import pandas.util.testing as tm"
      ],
      "execution_count": null,
      "outputs": []
    },
    {
      "cell_type": "code",
      "metadata": {
        "id": "HwtVTi-6R1rN",
        "colab_type": "code",
        "colab": {
          "base_uri": "https://localhost:8080/",
          "height": 204
        },
        "outputId": "07c0f133-8e92-4e35-a890-d978635ed8cc"
      },
      "source": [
        "wb = gc.open_by_url('https://docs.google.com/spreadsheets/d/1NERggYtra9a8b86kEliW2yJkqO7YwdrpsNqg0xaJZAM/edit#gid=1754765012')\n",
        "sheet1 = wb.worksheet('Study_&_Work_log')\n",
        "data1 = sheet1.get_all_values() #creating a list form the gspread spredsheet\n",
        "\n",
        "df_timeLog = pd.DataFrame(data1)   #Creating the dataframe from the data list\n",
        "df_timeLog.columns = df_timeLog.iloc[0]   #Setting the 1st row as columns\n",
        "df_timeLog = df_timeLog.iloc[1:]          #Assingning the dataframes form row 2 until the end\n",
        "df_timeLog.tail(5)"
      ],
      "execution_count": null,
      "outputs": [
        {
          "output_type": "execute_result",
          "data": {
            "text/html": [
              "<div>\n",
              "<style scoped>\n",
              "    .dataframe tbody tr th:only-of-type {\n",
              "        vertical-align: middle;\n",
              "    }\n",
              "\n",
              "    .dataframe tbody tr th {\n",
              "        vertical-align: top;\n",
              "    }\n",
              "\n",
              "    .dataframe thead th {\n",
              "        text-align: right;\n",
              "    }\n",
              "</style>\n",
              "<table border=\"1\" class=\"dataframe\">\n",
              "  <thead>\n",
              "    <tr style=\"text-align: right;\">\n",
              "      <th></th>\n",
              "      <th>date</th>\n",
              "      <th>time_spended_min</th>\n",
              "      <th>activity_type</th>\n",
              "      <th>specific_1</th>\n",
              "      <th>specific_2</th>\n",
              "      <th>source</th>\n",
              "      <th>if_challenge_score</th>\n",
              "    </tr>\n",
              "  </thead>\n",
              "  <tbody>\n",
              "    <tr>\n",
              "      <th>81</th>\n",
              "      <td>6/25/2020</td>\n",
              "      <td>60</td>\n",
              "      <td>work</td>\n",
              "      <td>meetings</td>\n",
              "      <td>cuautla he leak</td>\n",
              "      <td>conti</td>\n",
              "      <td></td>\n",
              "    </tr>\n",
              "    <tr>\n",
              "      <th>82</th>\n",
              "      <td>6/25/2020</td>\n",
              "      <td>110</td>\n",
              "      <td>coding</td>\n",
              "      <td>python project</td>\n",
              "      <td>time log project</td>\n",
              "      <td>time log project</td>\n",
              "      <td></td>\n",
              "    </tr>\n",
              "    <tr>\n",
              "      <th>83</th>\n",
              "      <td>6/25/2020</td>\n",
              "      <td>75</td>\n",
              "      <td>coding</td>\n",
              "      <td>python challenge</td>\n",
              "      <td>panda</td>\n",
              "      <td>https://www.machinelearningplus.com/python/101...</td>\n",
              "      <td>7/11</td>\n",
              "    </tr>\n",
              "    <tr>\n",
              "      <th>84</th>\n",
              "      <td>6/25/2020</td>\n",
              "      <td>30</td>\n",
              "      <td>coding</td>\n",
              "      <td>python challenge</td>\n",
              "      <td>panda</td>\n",
              "      <td>kaggle</td>\n",
              "      <td>4/5</td>\n",
              "    </tr>\n",
              "    <tr>\n",
              "      <th>85</th>\n",
              "      <td>6/26/2020</td>\n",
              "      <td>45</td>\n",
              "      <td>work</td>\n",
              "      <td>release audit</td>\n",
              "      <td>honda</td>\n",
              "      <td>conti</td>\n",
              "      <td></td>\n",
              "    </tr>\n",
              "  </tbody>\n",
              "</table>\n",
              "</div>"
            ],
            "text/plain": [
              "0        date  ... if_challenge_score\n",
              "81  6/25/2020  ...                   \n",
              "82  6/25/2020  ...                   \n",
              "83  6/25/2020  ...               7/11\n",
              "84  6/25/2020  ...                4/5\n",
              "85  6/26/2020  ...                   \n",
              "\n",
              "[5 rows x 7 columns]"
            ]
          },
          "metadata": {
            "tags": []
          },
          "execution_count": 7
        }
      ]
    },
    {
      "cell_type": "markdown",
      "metadata": {
        "id": "0d7NjrmSUJX9",
        "colab_type": "text"
      },
      "source": [
        "# **Defining Classes and FUnctions**"
      ]
    },
    {
      "cell_type": "code",
      "metadata": {
        "id": "zVIaG_tAiH6Z",
        "colab_type": "code",
        "colab": {}
      },
      "source": [
        "#Date label creation\n",
        "def create_day_label(date):\n",
        "  months = ['01','02','03','04','05','06','07','08','09','10','11','12']\n",
        "  months_labels = ['Jan','Feb','Mar','Apr','May','Jun','Jul','Aug','Sep','Oct','Nov','Dec']\n",
        "\n",
        "  date = str(date)\n",
        "  month = ''\n",
        "  for i in range((len(months))):\n",
        "    if date.split('-')[1] == months[i]:\n",
        "      month = months_labels[i]  \n",
        "  new_day = month + ' ' + date.split('-')[2].split(' ')[0]   \n",
        "  \n",
        "  return new_day"
      ],
      "execution_count": null,
      "outputs": []
    },
    {
      "cell_type": "markdown",
      "metadata": {
        "id": "IWHKrtaMhgeH",
        "colab_type": "text"
      },
      "source": [
        "## **Period Data Analysis Class**"
      ]
    },
    {
      "cell_type": "code",
      "metadata": {
        "id": "skLFcDIGUJfw",
        "colab_type": "code",
        "colab": {}
      },
      "source": [
        "class Date_over_a_period():\n",
        "  import numpy as np\n",
        "  def __init__(self, data, name, initialDate, finalDate):\n",
        "    self.totaldata , self.name, self.initialDate, self.finalDate = data, name, initialDate,finalDate    \n",
        "    self.range_data = data[(data.date >= initialDate) & (data.date <= finalDate)]\n",
        "    self.total_hrs = self.range_data.groupby('date_label').time_spended_hrs.sum().reset_index()\n",
        "    self.mean_hrs = np.mean(self.total_hrs)\n",
        "    self.max_hrs = np.max(self.total_hrs)\n",
        "    self.min_hrs = np.min(self.total_hrs)\n",
        "    \n",
        "    #Grouping the data by date and type of study\n",
        "    self.groupedBydate_activity = self.range_data.groupby(['date_label','activity_type']).time_spended_min.sum().reset_index()\n",
        "\n",
        "  def plot_bars_coding_vs_working(self, pallete='BuPu', scale=3, w=30, h=7):\n",
        "    import seaborn as sns\n",
        "    import matplotlib.pyplot as plt\n",
        "    work_coding_data= self.groupedBydate_activity[ (self.groupedBydate_activity.activity_type =='work') | (self.groupedBydate_activity.activity_type =='coding')]\n",
        "    #Style\n",
        "  \n",
        "    plt.figure(figsize=(w,h))\n",
        "\n",
        "    diverging_colors = sns.color_palette(pallete, scale)\n",
        "    sns.set_palette(diverging_colors)\n",
        "    sns.set_context(\"poster\", font_scale = 0.5, rc={\"grid.linewidth\": 0.3, 'axes.linewidth': 1})\n",
        "    #Plot\n",
        "    sns.barplot(x='date_label', y='time_spended_min', hue='activity_type', data=work_coding_data)\n",
        "    plt.setp(plt.gca().get_legend().get_texts(), fontsize='12') #legend 'list' fontsize \n",
        "    plt.title('Work vs Coding Analysis over time')\n",
        "    plt.show()\n",
        "\n",
        "  def plot_pie_work_vs_coding(self, pallete='BuPu', scale=3, w=5.5, h=5.5):\n",
        "    import matplotlib.pyplot as plt\n",
        "\n",
        "    work= self.groupedBydate_activity.time_spended_min[ (self.groupedBydate_activity.activity_type =='work')]\n",
        "    coding = self.groupedBydate_activity.time_spended_min[ (self.groupedBydate_activity.activity_type =='coding')]\n",
        "\n",
        "    time_distribution= [np.array(coding).sum(),np.array(work).sum()]\n",
        "\n",
        "    \n",
        "    plt.figure(figsize=(w,h)) \n",
        "    explode = (0, 0.1)  \n",
        "    diverging_colors = sns.color_palette(pallete, scale)\n",
        "    sns.set_palette(diverging_colors)\n",
        "    sns.set_context(\"poster\", font_scale = 0.6, rc={\"grid.linewidth\": 0.6, 'axes.linewidth': 2})\n",
        "    plt.pie(time_distribution, autopct='%1d%%', labels=['Coding hrs', 'Working hrs'], explode=explode, shadow=True)\n",
        "    plt.title('Coding vs Working')    \n",
        "    plt.show()    \n",
        "\n",
        "  def plot_activities_percentage(self, pallete='BuPu', scale=3, h=5.5, w=5.5):\n",
        "    import matplotlib.pyplot as plt\n",
        "\n",
        "    activities_labels = self.groupedBydate_activity.groupby(['activity_type']).time_spended_min.sum().reset_index()\n",
        "    activities = list(self.groupedBydate_activity.groupby('activity_type').time_spended_min.sum())\n",
        "    activities_labels = list(activities_labels.activity_type)\n",
        "\n",
        "    \n",
        "    plt.figure(figsize=(w,h))  \n",
        "    #explode = (0, 0.4)  \n",
        "    diverging_colors = sns.color_palette(pallete, scale)\n",
        "    sns.set_palette(diverging_colors)\n",
        "    sns.set_context(\"poster\", font_scale = 0.6, rc={\"grid.linewidth\": 0.6, 'axes.linewidth': 2})\n",
        "\n",
        "    #Geting the higer percentage to explode\n",
        "    higherToExplod=activities.index(max(activities))\n",
        "    explode1=[]\n",
        "    for i in range(len(activities)):      \n",
        "      explode1.append(0) \n",
        "    explode1[higherToExplod] = 0.1\n",
        "\n",
        "    #Ploting the pie chart\n",
        "    plt.pie(activities, autopct='%1d%%', shadow=True, rotatelabels=1, explode=explode1, startangle=45)\n",
        "    \n",
        "    #Setting up Legend\n",
        "    legend= plt.legend(activities_labels,          title=\"Ingredients\",          loc=\"center left\",          bbox_to_anchor=(1, 0, 0.5, 1)     , fancybox=True     )\n",
        "    legend.get_title().set_fontsize('14') #legend 'Title' fontsize\n",
        "    plt.setp(plt.gca().get_legend().get_texts(), fontsize='12') #legend 'list' fontsize \n",
        "\n",
        "    plt.title('Activities')    \n",
        "    plt.show() \n",
        "\n",
        "  def plot_total_work(self, pallete='BuPu', scale=3, w=25,h=5):    \n",
        "    import seaborn as sns\n",
        "    import matplotlib.pyplot as plt\n",
        "\n",
        "    plt.figure(figsize=(w,h))\n",
        "    #Style\n",
        "    diverging_colors = sns.color_palette(pallete, scale)\n",
        "    sns.set_palette(diverging_colors)\n",
        "    sns.set_context(\"poster\", font_scale = 0.5, rc={\"grid.linewidth\": 0.3, 'axes.linewidth': 1})\n",
        "\n",
        "    #Plot\n",
        "    plt.bar(self.total_hrs.date_label, self.total_hrs.time_spended_hrs)\n",
        "    plt.title('Meaningful Hours Analysis over time')\n",
        "    plt.axhline(y=6.0, color='grey' , linewidth=0.5, label = \"Avg\")\n",
        "    plt.text(y=6 + 0.2, x=0 ,color='black', s = \" 6 hrs Goal\")\n",
        "    plt.axhline(y=np.mean(self.total_hrs.time_spended_hrs), color='grey' , linewidth=0.5, label = \"Avg\")\n",
        "    plt.text(y=np.mean(self.total_hrs.time_spended_hrs) + 0.2, x=0.9 ,color='black', s = \" Avg: {}\".format(round(np.mean(self.total_hrs.time_spended_hrs),2)))\n",
        "    \n",
        "    plt.ylabel('hours')\n",
        "    plt.xlabel('Dates')\n",
        "    plt.show()\n",
        "\n",
        "  def plot_percentages(self, pallete='BuPu', scale=3, w=25,h=5):\n",
        "    import matplotlib.pyplot as plt\n",
        "    plt.figure(figsize=(w,h)) \n",
        "\n",
        "    #1st plt -----------------------------------------------------------------------------------------------------------------------------------------\n",
        "    work= self.groupedBydate_activity.time_spended_min[ (self.groupedBydate_activity.activity_type =='work')]\n",
        "    coding = self.groupedBydate_activity.time_spended_min[ (self.groupedBydate_activity.activity_type =='coding')]\n",
        "    time_distribution= [np.array(coding).sum(),np.array(work).sum()] \n",
        "   \n",
        "    ax=plt.subplot(1,3,1)\n",
        "    explode = (0, 0.1)  \n",
        "    diverging_colors = sns.color_palette(pallete, scale)\n",
        "    sns.set_palette(diverging_colors)\n",
        "    sns.set_context(\"poster\", font_scale = 0.6, rc={\"grid.linewidth\": 0.6, 'axes.linewidth': 2})\n",
        "    plt.pie(time_distribution, autopct='%1d%%', labels=['Coding hrs', 'Working hrs'], explode=explode, shadow=True)\n",
        "    plt.title('Coding vs Working')   \n",
        "\n",
        "\n",
        "    #2nd Plot----------------------------------------------------------------------------------------------------------------------------------------\n",
        "    activities_labels = self.groupedBydate_activity.groupby(['activity_type']).time_spended_min.sum().reset_index()\n",
        "    activities = list(self.groupedBydate_activity.groupby('activity_type').time_spended_min.sum())\n",
        "    activities_labels = list(activities_labels.activity_type)\n",
        "    bx=plt.subplot(1,3,2)\n",
        "    sns.set_context(\"poster\", font_scale = 0.6, rc={\"grid.linewidth\": 0.6, 'axes.linewidth': 2})\n",
        "\n",
        "    #Geting the higer percentage to explode\n",
        "    higherToExplod=activities.index(max(activities))\n",
        "    explode1=[]\n",
        "    for i in range(len(activities)):      \n",
        "      explode1.append(0) \n",
        "    explode1[higherToExplod] = 0.1\n",
        "\n",
        "    #Ploting the pie chart\n",
        "    plt.pie(activities, autopct='%1d%%', shadow=True, rotatelabels=1, explode=explode1, startangle=45)\n",
        "    \n",
        "    #Setting up Legend\n",
        "    legend= plt.legend(activities_labels,          title=\"Activities\",          loc=\"center left\",          bbox_to_anchor=(1, 0, 0.5, 1)     , fancybox=True     )\n",
        "    legend.get_title().set_fontsize('14') #legend 'Title' fontsize\n",
        "    plt.setp(plt.gca().get_legend().get_texts(), fontsize='12') #legend 'list' fontsize \n",
        "    plt.title('All Activities') \n",
        "\n",
        "    #3rd Plot---------------------------------------------------------------------------------------------------------------------------------------\n",
        "    cx=plt.subplot(1,3,3)\n",
        "    over_sixhr = np.count_nonzero(self.total_hrs.time_spended_hrs[self.total_hrs.time_spended_hrs>6])\n",
        "    total = len(self.total_hrs.time_spended_hrs)\n",
        "    plt.pie([over_sixhr,total], labels=['Over 6 hr', 'Short of 6hr'],autopct='%1d%%', shadow=True, rotatelabels=0, explode=(0,0.1), startangle=45)\n",
        "    \n",
        "    #Setting up Legend\n",
        "    plt.title('Percentage over 6hr days')\n",
        "\n",
        "    plt.show() \n",
        "\n",
        "    return None\n",
        "    \n"
      ],
      "execution_count": null,
      "outputs": []
    },
    {
      "cell_type": "markdown",
      "metadata": {
        "id": "oLP8YGPZSS3p",
        "colab_type": "text"
      },
      "source": [
        "# **Procesing data**"
      ]
    },
    {
      "cell_type": "code",
      "metadata": {
        "id": "I6PhyM-_STAk",
        "colab_type": "code",
        "colab": {}
      },
      "source": [
        "#Converting the min values to interger\n",
        "df_timeLog['time_spended_min'] = df_timeLog['time_spended_min'].apply(lambda x: int(x) if x != \"\" else x)\n",
        "\n",
        "#Creating Column Hrs\n",
        "df_timeLog['time_spended_hrs'] = df_timeLog['time_spended_min'].apply(lambda x: round( x / 60.0 ,2))\n",
        "\n",
        "#Converting date data Types\n",
        "df_timeLog['date'] = pd.to_datetime(df_timeLog['date'], format='%m/%d/%Y')\n",
        "\n",
        "#Creating day label column\n",
        "df_timeLog['day'] = df_timeLog['date'].apply(lambda x: int(str(x).split('-')[2].split(' ')[0]))\n",
        "\n",
        "#Creating date label column\n",
        "df_timeLog['date_label'] = df_timeLog['date'].apply(create_day_label)\n",
        "\n",
        "#create column year\n",
        "df_timeLog['year'] = df_timeLog['date'].apply(lambda x: int(str(x).split('-')[0]))"
      ],
      "execution_count": null,
      "outputs": []
    },
    {
      "cell_type": "code",
      "metadata": {
        "id": "0HcpLkFSSkvx",
        "colab_type": "code",
        "colab": {
          "base_uri": "https://localhost:8080/",
          "height": 204
        },
        "outputId": "5a2dc8c5-ab43-445c-fbcc-8664bffffd6b"
      },
      "source": [
        "df_timeLog.head(5)"
      ],
      "execution_count": null,
      "outputs": [
        {
          "output_type": "execute_result",
          "data": {
            "text/html": [
              "<div>\n",
              "<style scoped>\n",
              "    .dataframe tbody tr th:only-of-type {\n",
              "        vertical-align: middle;\n",
              "    }\n",
              "\n",
              "    .dataframe tbody tr th {\n",
              "        vertical-align: top;\n",
              "    }\n",
              "\n",
              "    .dataframe thead th {\n",
              "        text-align: right;\n",
              "    }\n",
              "</style>\n",
              "<table border=\"1\" class=\"dataframe\">\n",
              "  <thead>\n",
              "    <tr style=\"text-align: right;\">\n",
              "      <th></th>\n",
              "      <th>date</th>\n",
              "      <th>time_spended_min</th>\n",
              "      <th>activity_type</th>\n",
              "      <th>specific_1</th>\n",
              "      <th>specific_2</th>\n",
              "      <th>source</th>\n",
              "      <th>if_challenge_score</th>\n",
              "      <th>time_spended_hrs</th>\n",
              "      <th>day</th>\n",
              "      <th>date_label</th>\n",
              "      <th>year</th>\n",
              "    </tr>\n",
              "  </thead>\n",
              "  <tbody>\n",
              "    <tr>\n",
              "      <th>1</th>\n",
              "      <td>2020-06-06</td>\n",
              "      <td>90</td>\n",
              "      <td>coding</td>\n",
              "      <td>python tutorial</td>\n",
              "      <td>list</td>\n",
              "      <td>codeacademy</td>\n",
              "      <td></td>\n",
              "      <td>1.50</td>\n",
              "      <td>6</td>\n",
              "      <td>Jun 06</td>\n",
              "      <td>2020</td>\n",
              "    </tr>\n",
              "    <tr>\n",
              "      <th>2</th>\n",
              "      <td>2020-06-07</td>\n",
              "      <td>60</td>\n",
              "      <td>coding</td>\n",
              "      <td>python tutorial</td>\n",
              "      <td>functions</td>\n",
              "      <td>codeacademy</td>\n",
              "      <td></td>\n",
              "      <td>1.00</td>\n",
              "      <td>7</td>\n",
              "      <td>Jun 07</td>\n",
              "      <td>2020</td>\n",
              "    </tr>\n",
              "    <tr>\n",
              "      <th>3</th>\n",
              "      <td>2020-06-08</td>\n",
              "      <td>30</td>\n",
              "      <td>coding</td>\n",
              "      <td>python challenge</td>\n",
              "      <td>list</td>\n",
              "      <td>codeacademy</td>\n",
              "      <td>7/10</td>\n",
              "      <td>0.50</td>\n",
              "      <td>8</td>\n",
              "      <td>Jun 08</td>\n",
              "      <td>2020</td>\n",
              "    </tr>\n",
              "    <tr>\n",
              "      <th>4</th>\n",
              "      <td>2020-06-08</td>\n",
              "      <td>35</td>\n",
              "      <td>coding</td>\n",
              "      <td>python tutorial</td>\n",
              "      <td>reading files</td>\n",
              "      <td>codeacademy</td>\n",
              "      <td></td>\n",
              "      <td>0.58</td>\n",
              "      <td>8</td>\n",
              "      <td>Jun 08</td>\n",
              "      <td>2020</td>\n",
              "    </tr>\n",
              "    <tr>\n",
              "      <th>5</th>\n",
              "      <td>2020-06-08</td>\n",
              "      <td>40</td>\n",
              "      <td>coding</td>\n",
              "      <td>python tutorial</td>\n",
              "      <td>reading files challenge</td>\n",
              "      <td>codeacademy</td>\n",
              "      <td></td>\n",
              "      <td>0.67</td>\n",
              "      <td>8</td>\n",
              "      <td>Jun 08</td>\n",
              "      <td>2020</td>\n",
              "    </tr>\n",
              "  </tbody>\n",
              "</table>\n",
              "</div>"
            ],
            "text/plain": [
              "0       date  time_spended_min activity_type  ... day date_label  year\n",
              "1 2020-06-06                90        coding  ...   6     Jun 06  2020\n",
              "2 2020-06-07                60        coding  ...   7     Jun 07  2020\n",
              "3 2020-06-08                30        coding  ...   8     Jun 08  2020\n",
              "4 2020-06-08                35        coding  ...   8     Jun 08  2020\n",
              "5 2020-06-08                40        coding  ...   8     Jun 08  2020\n",
              "\n",
              "[5 rows x 11 columns]"
            ]
          },
          "metadata": {
            "tags": []
          },
          "execution_count": 10
        }
      ]
    },
    {
      "cell_type": "markdown",
      "metadata": {
        "id": "iQp_Hzafmh_s",
        "colab_type": "text"
      },
      "source": [
        "# **Month of June 2020**"
      ]
    },
    {
      "cell_type": "code",
      "metadata": {
        "id": "Rv0sczWpV12O",
        "colab_type": "code",
        "colab": {}
      },
      "source": [
        "june=Date_over_a_period(df_timeLog, 'June','2020-06-15','2020-06-25')"
      ],
      "execution_count": null,
      "outputs": []
    },
    {
      "cell_type": "code",
      "metadata": {
        "id": "gNAEiLOompOd",
        "colab_type": "code",
        "colab": {
          "base_uri": "https://localhost:8080/",
          "height": 361
        },
        "outputId": "869d2555-71d4-4943-d125-1aedb6c6fe36"
      },
      "source": [
        "june.plot_bars_coding_vs_working(w=25, h=5, pallete='GnBu', scale=2 )"
      ],
      "execution_count": null,
      "outputs": [
        {
          "output_type": "display_data",
          "data": {
            "image/png": "[encoded data removed]",
            "text/plain": [
              "<Figure size 1800x360 with 1 Axes>"
            ]
          },
          "metadata": {
            "tags": [],
            "needs_background": "light"
          }
        }
      ]
    },
    {
      "cell_type": "code",
      "metadata": {
        "id": "IeHcmmXLoGAE",
        "colab_type": "code",
        "colab": {
          "base_uri": "https://localhost:8080/",
          "height": 361
        },
        "outputId": "68b9c63c-61f3-4857-e11f-ac8cc294ac24"
      },
      "source": [
        "june.plot_total_work(w=25, h=5, pallete='GnBu', scale=2 )"
      ],
      "execution_count": null,
      "outputs": [
        {
          "output_type": "display_data",
          "data": {
            "image/png": "[encoded data removed]",
            "text/plain": [
              "<Figure size 1800x360 with 1 Axes>"
            ]
          },
          "metadata": {
            "tags": [],
            "needs_background": "light"
          }
        }
      ]
    },
    {
      "cell_type": "code",
      "metadata": {
        "id": "CLXloDbPU4GZ",
        "colab_type": "code",
        "colab": {
          "base_uri": "https://localhost:8080/",
          "height": 320
        },
        "outputId": "7dd41808-9f53-446c-dfa7-ee6037d2c1c4"
      },
      "source": [
        "june.plot_percentages(w=25, h=5, scale=4, pallete='GnBu' )"
      ],
      "execution_count": null,
      "outputs": [
        {
          "output_type": "display_data",
          "data": {
            "image/png": "[encoded data removed]",
            "text/plain": [
              "<Figure size 1800x360 with 3 Axes>"
            ]
          },
          "metadata": {
            "tags": []
          }
        }
      ]
    }
  ]
}